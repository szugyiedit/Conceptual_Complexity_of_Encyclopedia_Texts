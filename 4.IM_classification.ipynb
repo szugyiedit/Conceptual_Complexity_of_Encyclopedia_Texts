{
 "cells": [
  {
   "cell_type": "markdown",
   "metadata": {},
   "source": [
    "# Classification experiments\n",
    "This notebook contains the following experiments of classification for the Newsela and Britannica texts:\n",
    "* For both data sets:\n",
    "    1. Threeway classification of all texts.\n",
    "    2. Pairwise classification of the same text.\n",
    "    3. Pairwise classification of all texts.  \n",
    "$~$\n",
    "* Points 2. and 3. while training on Newsela and testing on Britannica.\n",
    "$~$\n",
    "* Point 3. for comparing two outlier removal methods."
   ]
  },
  {
   "cell_type": "markdown",
   "metadata": {},
   "source": [
    "#### Import requirements"
   ]
  },
  {
   "cell_type": "code",
   "execution_count": 1,
   "metadata": {},
   "outputs": [],
   "source": [
    "import random\n",
    "from itertools import combinations\n",
    "import numpy as np\n",
    "import pandas as pd\n",
    "from sklearn.ensemble import RandomForestClassifier\n",
    "from sklearn import svm\n",
    "from sklearn.metrics import accuracy_score\n",
    "from sklearn.model_selection import cross_val_score, train_test_split"
   ]
  },
  {
   "cell_type": "markdown",
   "metadata": {},
   "source": [
    "#### Load DFs and create variables for necessary feature sets"
   ]
  },
  {
   "cell_type": "code",
   "execution_count": 2,
   "metadata": {},
   "outputs": [],
   "source": [
    "def load_data(file_name):\n",
    "    df = pd.read_csv(file_name, index_col=0)\n",
    "    return df"
   ]
  },
  {
   "cell_type": "code",
   "execution_count": 4,
   "metadata": {},
   "outputs": [],
   "source": [
    "df_brit = load_data(\"csv/britannica_with_features.csv\")\n",
    "df_new = load_data(\"csv/newsela_with_features.csv\")\n",
    "sematch = load_data('csv/britannica_sematch_with_features.csv')\n",
    "semrel = load_data('csv/britannica_semrel_with_features.csv')\n",
    "short_brit = df_brit[:45]"
   ]
  },
  {
   "cell_type": "code",
   "execution_count": 5,
   "metadata": {},
   "outputs": [],
   "source": [
    "all_features = [\n",
    "    \"node_degree\",\n",
    "    \"clustering_coef\",\n",
    "    \"av_pagerank\",\n",
    "    \"pairwise_distance_per_sent\",\n",
    "    \"graph_conncomp_per_sent\",\n",
    "    \"clustering_coef_per_sent\",\n",
    "    \"graph_density_per_sent\",\n",
    "    \"graph_conncomp_per_para\",\n",
    "    \"clustering_coef_per_para\",\n",
    "    \"graph_density_per_para\",\n",
    "    \"pairwise_distance_per_para\",\n",
    "    \"pairwise_semrel_per_sent\",\n",
    "    \"pairwise_semrel_per_para\",\n",
    "]\n",
    "\n",
    "no_para = [\n",
    "    \"node_degree\",\n",
    "    \"clustering_coef\",\n",
    "    \"av_pagerank\",\n",
    "    \"pairwise_distance_per_sent\",\n",
    "    \"graph_conncomp_per_sent\",\n",
    "    \"clustering_coef_per_sent\",\n",
    "    \"graph_density_per_sent\",\n",
    "    \"pairwise_semrel_per_sent\",\n",
    "]\n",
    "\n",
    "best_features_brit = [\n",
    "    \"av_pagerank\",\n",
    "    \"graph_conncomp_per_sent\",\n",
    "    \"graph_conncomp_per_para\",\n",
    "]\n",
    "best_features_new = [\n",
    "    \"av_pagerank\",\n",
    "    \"graph_conncomp_per_sent\",\n",
    "    \"clustering_coef_per_sent\",\n",
    "]"
   ]
  },
  {
   "cell_type": "markdown",
   "metadata": {},
   "source": [
    "#### Classification on whole data"
   ]
  },
  {
   "cell_type": "code",
   "execution_count": 6,
   "metadata": {},
   "outputs": [],
   "source": [
    "def class_whole_data(df, feat, print_features=False, cross_val=10):\n",
    "    '''\n",
    "    function that returns accuracy and variance of a classifier\n",
    "    given the data frame and the features\n",
    "    the considered features can be given with the 'feat' argument\n",
    "    the classes are the different values under the \"level\" column of the DF\n",
    "    it can optionally print the feature values of a classifier\n",
    "    '''\n",
    "    \n",
    "    clf = RandomForestClassifier(n_estimators=100, max_depth=None)\n",
    "    if print_features:\n",
    "        X_train, X_test, y_train, y_test = train_test_split(\n",
    "            df[feat], df[\"level\"], test_size=0.1\n",
    "        )\n",
    "        X_train = X_train.apply(lambda x: (x - x.min()) / (x.max() - x.min()), axis=0)\n",
    "        X_test = X_test.apply(lambda x: (x - x.min()) / (x.max() - x.min()), axis=0)\n",
    "        clf.fit(X_train, y_train)\n",
    "        results = clf.predict(X_test)\n",
    "    \n",
    "        print(sorted(list(zip(clf.feature_importances_, feat))))\n",
    "\n",
    "    df[feat] = df[feat].apply(lambda x: (x - x.min()) / (x.max() - x.min()), axis=0)\n",
    "    score = cross_val_score(clf, df[feat], df[\"level\"], cv=cross_val)\n",
    "    return np.mean(score), np.var(score)"
   ]
  },
  {
   "cell_type": "code",
   "execution_count": 7,
   "metadata": {},
   "outputs": [
    {
     "name": "stdout",
     "output_type": "stream",
     "text": [
      "Britannica all features:  (0.74, 0.00617777777777778)\n",
      "Britannica best features:  (0.7444444444444445, 0.008765432098765435)\n",
      "Newsela all features:  (0.323, 0.018941)\n",
      "Newsela best features:  (0.28700000000000003, 0.013581)\n"
     ]
    }
   ],
   "source": [
    "print(\"Britannica all features: \", class_whole_data(df_brit, all_features))\n",
    "print(\"Britannica best features: \", class_whole_data(df_brit, best_features_brit))\n",
    "print(\"Newsela all features: \", class_whole_data(df_new, no_para))\n",
    "print(\"Newsela best features: \", class_whole_data(df_new, best_features_new))"
   ]
  },
  {
   "cell_type": "markdown",
   "metadata": {},
   "source": [
    "#### Pairwise classification of the same text"
   ]
  },
  {
   "cell_type": "code",
   "execution_count": 8,
   "metadata": {},
   "outputs": [],
   "source": [
    "def create_pairs_of_text(X, y, level_no):\n",
    "    '''\n",
    "    function that creates pairs of texts from a data frame with the topic being controlled\n",
    "    the number of levels has to be given, 5 with Newsela and 3 with Britannica\n",
    "    e.g. the pairs in a Britannica data set will be kid vs student, student vs scholar and kid vs scholar \n",
    "    for the topic chicken etc.\n",
    "    the order is randomized (so sometimes the more complex text is first in the pair and other times \n",
    "    the simpler one)\n",
    "    '''\n",
    "    pairs = []\n",
    "    sub_pairs = []\n",
    "    X = X.values.tolist()\n",
    "    to_sort = list(zip(X, y))\n",
    "    for ind, lst in enumerate(to_sort):\n",
    "        if ind % level_no == 0 and ind != 0:\n",
    "            for pair in list(combinations(sub_pairs, 2)):\n",
    "                pairs.append(pair)\n",
    "            sub_pairs = []\n",
    "            sub_pairs.append(lst)\n",
    "        else:\n",
    "            sub_pairs.append(lst)\n",
    "\n",
    "    return [random.sample(list(tup), 2) for tup in pairs]\n"
   ]
  },
  {
   "cell_type": "code",
   "execution_count": 29,
   "metadata": {},
   "outputs": [],
   "source": [
    "def class_pairwise(\n",
    "    df_train,\n",
    "    df_test,\n",
    "    feat,\n",
    "    levels_train,\n",
    "    levels_test,\n",
    "    print_features=False,\n",
    "    cross_val=10):\n",
    "    '''\n",
    "    function that does a binary classification of data\n",
    "    it works with pairs created by the create_pairs_of_text function\n",
    "    can be used with one data set and also with different training and test sets\n",
    "    arguments:\n",
    "    df_train:       training data\n",
    "    df_test:        test data, can be same or different as df_train\n",
    "    feat:           list of features to be considered for classification\n",
    "    levels_train:   number of levels in training data, 5 for newsela, 3 for britannica\n",
    "    levels_test:    number of levels in test data\n",
    "    print_features: if True, will print sorted list of feature values\n",
    "    cross_val:      number of folds for cross-validation\n",
    "    '''\n",
    "    \n",
    "    try:\n",
    "        if df_train.all == df_test.all:\n",
    "\n",
    "                clf = RandomForestClassifier(n_estimators=100, max_depth=None, random_state=0, bootstrap=True)\n",
    "                \n",
    "                pairs = create_pairs_of_text(df_train[feat], df_train['level'], levels_train)\n",
    "                labels = [0 if pair[0][1] < pair[1][1] else 1 for pair in pairs]\n",
    "                pairs = [\n",
    "                    [item for sublist in list((tup[0][0], tup[1][0])) for item in sublist]\n",
    "                    for tup in pairs]\n",
    "                \n",
    "                if print_features:\n",
    "                    print(sorted(list(zip(clf.feature_importances_, feat))))\n",
    "                score = cross_val_score(clf, pairs, labels, cv=cross_val)\n",
    "\n",
    "                return np.mean(score), np.var(score)\n",
    "            \n",
    "    \n",
    "    except:\n",
    "        accuracies = []\n",
    "\n",
    "        for exp in range(cross_val):\n",
    "           \n",
    "                X_train = df_train[feat]\n",
    "                y_train = df_train[\"level\"]\n",
    "                X_test = df_test[feat]\n",
    "                y_test = df_test[\"level\"]\n",
    "\n",
    "                X_train = X_train.apply(lambda x: (x - x.min()) / (x.max() - x.min()), axis=0)\n",
    "                X_test = X_test.apply(lambda x: (x - x.min()) / (x.max() - x.min()), axis=0)\n",
    "                \n",
    "                pairs_train = create_pairs_of_text(X_train, y_train, levels_train)\n",
    "                labels_train = [0 if pair[0][1] < pair[1][1] else 1 for pair in pairs_train]\n",
    "                pairs_train = [\n",
    "                    [item for sublist in list((tup[0][0], tup[1][0])) for item in sublist]\n",
    "                    for tup in pairs_train\n",
    "                ]\n",
    "\n",
    "                pairs_test = create_pairs_of_text(X_test, y_test, levels_test)\n",
    "                labels_test = [0 if pair[0][1] < pair[1][1] else 1 for pair in pairs_test]\n",
    "                pairs_test = [\n",
    "                    [item for sublist in list((tup[0][0], tup[1][0])) for item in sublist]\n",
    "                    for tup in pairs_test\n",
    "                ]\n",
    "\n",
    "                clf = RandomForestClassifier(n_estimators=100, max_depth=None, random_state=0, bootstrap=True)\n",
    "                clf.fit(pairs_train, labels_train)\n",
    "                results = clf.predict(pairs_test)\n",
    "                accuracies.append(accuracy_score(results, labels_test))\n",
    "\n",
    "                #print(accuracies)\n",
    "                if print_features:\n",
    "                    print(sorted(list(zip(clf.feature_importances_, feat))))\n",
    "\n",
    "                return np.mean(accuracies), np.var(accuracies, dtype=np.float64)"
   ]
  },
  {
   "cell_type": "code",
   "execution_count": 30,
   "metadata": {},
   "outputs": [
    {
     "name": "stdout",
     "output_type": "stream",
     "text": [
      "Britannica all features:  (0.8653186274509803, 0.008018351982677602)\n",
      "Britannica best features:  (0.8798611111111111, 0.007600790895061727)\n",
      "Newsela all features:  (0.7937579056900665, 0.04246451023808745)\n",
      "Newsela best features:  (0.8023817572712046, 0.03363391713047783)\n",
      "Newsela-Britannica all features:  (0.8448275862068966, 0.0)\n",
      "Newsela-Britannica best features:  (0.7873563218390804, 0.0)\n"
     ]
    }
   ],
   "source": [
    "print(\n",
    "    \"Britannica all features: \",\n",
    "    class_pairwise(\n",
    "        df_brit, df_brit, all_features, 3, 3, print_features=False, cross_val=10\n",
    "    ),\n",
    ")\n",
    "print(\n",
    "    \"Britannica best features: \",\n",
    "    class_pairwise(\n",
    "        df_brit, df_brit, best_features_brit, 3, 3, print_features=False, cross_val=10\n",
    "    ),\n",
    ")\n",
    "print(\n",
    "    \"Newsela all features: \",\n",
    "    class_pairwise(df_new, df_new, no_para, 5, 5, print_features=False, cross_val=10),\n",
    ")\n",
    "print(\n",
    "    \"Newsela best features: \",\n",
    "    class_pairwise(\n",
    "        df_new, df_new, best_features_new, 5, 5, print_features=False, cross_val=10\n",
    "    ),\n",
    ")\n",
    "print(\n",
    "    \"Newsela-Britannica all features: \",\n",
    "    class_pairwise(df_new, df_brit, no_para, 5, 3, print_features=False, cross_val=10),\n",
    ")\n",
    "print(\n",
    "    \"Newsela-Britannica best features: \",\n",
    "    class_pairwise(\n",
    "        df_new, df_brit, best_features_new, 5, 3, print_features=False, cross_val=10\n",
    "    ),\n",
    ")"
   ]
  },
  {
   "cell_type": "markdown",
   "metadata": {},
   "source": [
    "#### Pairwise classification between all texts"
   ]
  },
  {
   "cell_type": "code",
   "execution_count": 31,
   "metadata": {},
   "outputs": [],
   "source": [
    "def create_all_pairs(X, y):\n",
    "     '''\n",
    "    function that creates pairs of texts (i.e. features values) from a data frame \n",
    "    the order is randomized (so sometimes the more complex text is first in the pair and other times \n",
    "    the simpler one)\n",
    "    '''\n",
    "    pairs = []\n",
    "    X = X.values.tolist()\n",
    "\n",
    "    pairs = list(combinations(list(zip(X, y)), 2))\n",
    "\n",
    "    return [random.sample(list(tup), 2) for tup in pairs]"
   ]
  },
  {
   "cell_type": "code",
   "execution_count": 56,
   "metadata": {},
   "outputs": [],
   "source": [
    "def class_pairwise_all(df_train, df_test, feat, print_features=False, cross_val=10):\n",
    "    \n",
    "     '''\n",
    "    function that does a binary classification of data\n",
    "    it works with pairs created by the create_all_pairs function\n",
    "    can be used with one data set and also with different training and test sets\n",
    "    arguments:\n",
    "    df_train:       training data\n",
    "    df_test:        test data, can be same or different as df_train\n",
    "    feat:           list of features to be considered for classification\n",
    "    print_features: if True, will print sorted list of feature values\n",
    "    cross_val:      number of folds for cross-validation\n",
    "    '''\n",
    "    \n",
    "    \n",
    "    accuracies = []\n",
    "\n",
    "    try:\n",
    "            if df_train.all == df_test.all:\n",
    "                                               \n",
    "                clf = RandomForestClassifier(n_estimators=100, max_depth=None, random_state=0, bootstrap=True)\n",
    "                pairs = create_all_pairs(df_train[feat], df_train['level'])\n",
    "                labels = [0 if pair[0][1] < pair[1][1] else 1 for pair in pairs]\n",
    "                pairs = [\n",
    "                    [item for sublist in list((tup[0][0], tup[1][0])) for item in sublist]\n",
    "                    for tup in pairs\n",
    "                ]\n",
    "\n",
    "                if print_features:\n",
    "                    print(sorted(list(zip(clf.feature_importances_, feat))))\n",
    "                score = cross_val_score(clf, pairs, labels, cv=cross_val)\n",
    "            \n",
    "                return np.mean(score), np.var(score)\n",
    " \n",
    "                \n",
    "    except:\n",
    "        \n",
    "        for exp in range(cross_val):\n",
    "\n",
    "        \n",
    "            X_train = df_train[feat]\n",
    "            y_train = df_train[\"level\"]\n",
    "            X_test = df_test[feat]\n",
    "            y_test = df_test[\"level\"]\n",
    "\n",
    "            X_train = X_train.apply(lambda x: (x - x.min()) / (x.max() - x.min()), axis=0)\n",
    "            X_test = X_test.apply(lambda x: (x - x.min()) / (x.max() - x.min()), axis=0)\n",
    "\n",
    "            pairs_train = create_all_pairs(X_train, y_train)\n",
    "            labels_train = [0 if pair[0][1] < pair[1][1] else 1 for pair in pairs_train]\n",
    "            pairs_train = [\n",
    "                [item for sublist in list((tup[0][0], tup[1][0])) for item in sublist]\n",
    "                for tup in pairs_train\n",
    "            ]\n",
    "\n",
    "            pairs_test = create_all_pairs(X_test, y_test)\n",
    "            labels_test = [0 if pair[0][1] < pair[1][1] else 1 for pair in pairs_test]\n",
    "            pairs_test = [\n",
    "                [item for sublist in list((tup[0][0], tup[1][0])) for item in sublist]\n",
    "                for tup in pairs_test\n",
    "            ]\n",
    "\n",
    "\n",
    "            clf = RandomForestClassifier(n_estimators=100, max_depth=2, random_state=0)\n",
    "            clf.fit(pairs_train, labels_train)\n",
    "            results = clf.predict(pairs_test)\n",
    "\n",
    "            accuracies.append(accuracy_score(results, labels_test))\n",
    "\n",
    "            if print_features:\n",
    "                print(sorted(list(zip(clf.feature_importances_, feat))))\n",
    "\n",
    "            return np.mean(accuracies), np.var(accuracies)"
   ]
  },
  {
   "cell_type": "code",
   "execution_count": 57,
   "metadata": {},
   "outputs": [
    {
     "name": "stdout",
     "output_type": "stream",
     "text": [
      "Britannica all features:  (0.8808595707486129, 0.006089433839461934)\n",
      "Britannica best features:  (0.8761713975852029, 0.005529062640828577)\n",
      "Newsela all features:  (0.8749146084446311, 0.0035003827400735496)\n",
      "Newsela best features:  (0.8470787887992092, 0.003261821302307271)\n",
      "Newsela-Britannica all features:  (0.7528890600924499, 0.0)\n",
      "Newsela-Britannica best features:  (0.7791474062660503, 0.0)\n"
     ]
    }
   ],
   "source": [
    "print(\n",
    "    \"Britannica all features: \",\n",
    "    class_pairwise_all(\n",
    "        df_brit, df_brit, all_features, print_features=False, cross_val=10\n",
    "    ),\n",
    ")\n",
    "print(\n",
    "    \"Britannica best features: \",\n",
    "    class_pairwise_all(\n",
    "        df_brit, df_brit, best_features_brit, print_features=False, cross_val=10\n",
    "    ),\n",
    ")\n",
    "print(\n",
    "    \"Newsela all features: \",\n",
    "    class_pairwise_all(df_new, df_new, no_para, print_features=False, cross_val=10),\n",
    ")\n",
    "print(\n",
    "    \"Newsela best features: \",\n",
    "    class_pairwise_all(\n",
    "        df_new, df_new, best_features_new, print_features=False, cross_val=10\n",
    "    ),\n",
    ")\n",
    "print(\n",
    "    \"Newsela-Britannica all features: \",\n",
    "    class_pairwise_all(df_new, df_brit, no_para, print_features=False, cross_val=10),\n",
    ")\n",
    "print(\n",
    "    \"Newsela-Britannica best features: \",\n",
    "    class_pairwise_all(\n",
    "        df_new, df_brit, best_features_new, print_features=False, cross_val=10\n",
    "    ),\n",
    ")"
   ]
  },
  {
   "cell_type": "markdown",
   "metadata": {},
   "source": [
    "#### Outlier removal"
   ]
  },
  {
   "cell_type": "code",
   "execution_count": 54,
   "metadata": {},
   "outputs": [
    {
     "name": "stdout",
     "output_type": "stream",
     "text": [
      "No outlier removal:  (0.87518820861678, 0.005816175480398116)\n",
      "Sematch:  (0.9582321493152193, 0.00182396167879558)\n",
      "Exclusivity-based semantic relatedness:  (0.926944667201283, 0.0033143152226128595)\n"
     ]
    }
   ],
   "source": [
    "print(\n",
    "    \"No outlier removal: \",\n",
    "    class_pairwise_all(\n",
    "        short_brit, short_brit, all_features, print_features=False, cross_val=10\n",
    "    ),\n",
    ")\n",
    "print(\n",
    "    \"Sematch: \",\n",
    "    class_pairwise_all(\n",
    "       sematch , sematch, all_features, print_features=False, cross_val=10\n",
    "    ),\n",
    ")\n",
    "print(\n",
    "    \"Exclusivity-based semantic relatedness: \",\n",
    "    class_pairwise_all(\n",
    "        semrel, semrel, all_features, print_features=False, cross_val=10\n",
    "    ),\n",
    ")"
   ]
  },
  {
   "cell_type": "code",
   "execution_count": null,
   "metadata": {},
   "outputs": [],
   "source": []
  }
 ],
 "metadata": {
  "kernelspec": {
   "display_name": "Python 3",
   "language": "python",
   "name": "python3"
  },
  "language_info": {
   "codemirror_mode": {
    "name": "ipython",
    "version": 3
   },
   "file_extension": ".py",
   "mimetype": "text/x-python",
   "name": "python",
   "nbconvert_exporter": "python",
   "pygments_lexer": "ipython3",
   "version": "3.6.8"
  }
 },
 "nbformat": 4,
 "nbformat_minor": 2
}
