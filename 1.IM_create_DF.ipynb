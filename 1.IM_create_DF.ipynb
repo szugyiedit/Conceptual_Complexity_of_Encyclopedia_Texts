{
 "cells": [
  {
   "cell_type": "markdown",
   "metadata": {},
   "source": [
    "# Create DFs\n",
    "\n",
    "* The Newsela data is from https://github.com/PaulOpu/TS_LossFunction from my colleagues who did another project with Newsela data.\n",
    "* I restrained the topic to animal-related articles.\n",
    "* As the first part of my project was to reproduce Stajner and Hulpus (2015), I chose 1000 articles (200 original titles with their 4 simplified versions)\n",
    "* The data in the 'britannica' folder is collected from https://kids.britannica.com/\n",
    "* The output of this notebook is the CSV file 'csv/newsela.csv' and 'csv/britannica.csv'\n",
    "* For calculations in the following notebooks, a 'path' and a 'level' columns are needed."
   ]
  },
  {
   "cell_type": "markdown",
   "metadata": {},
   "source": [
    "#### Import requirements"
   ]
  },
  {
   "cell_type": "code",
   "execution_count": 1,
   "metadata": {},
   "outputs": [],
   "source": [
    "import numpy as np\n",
    "from os import listdir\n",
    "import pandas as pd\n",
    "from tqdm import tqdm"
   ]
  },
  {
   "cell_type": "markdown",
   "metadata": {},
   "source": [
    "#### Create DF from directory containing text files"
   ]
  },
  {
   "cell_type": "code",
   "execution_count": 2,
   "metadata": {},
   "outputs": [],
   "source": [
    "def create_df(folder, newsela=True): \n",
    "    '''\n",
    "    function to create the DF needed for future calculations\n",
    "    folder is either britannica or newsela\n",
    "    turn newsela False for britannica data\n",
    "    '''\n",
    "    #create list of text file names\n",
    "    files = [file for file in listdir(folder)]\n",
    "    \n",
    "    #loop over text files and save their path, name, id and newsela score\n",
    "    files_with_score = []\n",
    "    if newsela:\n",
    "        for file in files:\n",
    "            split_file_name = file[:-4].split(\"-\")\n",
    "            file_name = \"-\".join(split_file_name[:-2])\n",
    "            #file_id = split_file_name[-2]\n",
    "            level = split_file_name[-1]\n",
    "            files_with_score += [(file, file_name, level)]\n",
    "\n",
    "    else:\n",
    "         for file in files:\n",
    "            split_file_name = file.split(\"_\")\n",
    "            file_name =  \"-\".join(split_file_name[:-1])\n",
    "            level = split_file_name[-1]\n",
    "            files_with_score += [(file, file_name, level)]\n",
    "            \n",
    "    print(\"Sample row:\", files_with_score[0])\n",
    "        \n",
    "    \n",
    "    #save the values from above into a pandas dataframe\n",
    "    lines = []\n",
    "    for path, name, score in tqdm(files_with_score):\n",
    "         lines += [np.concatenate([[path, name, score]])]\n",
    "\n",
    "    df = pd.DataFrame(\n",
    "        data=lines,\n",
    "        columns=np.concatenate([[\"path\",\"name\",\"score\"]]))\n",
    "    df[df.columns[3:]] = df[df.columns[3:]].astype(float)\n",
    "    \n",
    "    # sort the dataframe so the files are in order first by name and then score\n",
    "    if newsela:\n",
    "        df[\"score\"]=pd.to_numeric(df[\"score\"])\n",
    "    \n",
    "    df.sort_values([\"name\", \"score\"], ascending=[True, False], inplace=True)\n",
    "    df.reset_index(drop=True, inplace=True)\n",
    "    \n",
    "    if newsela:\n",
    "        #add a column for level, where 0 is the original text and 1-2-3-4 are its simplified versions\n",
    "        #4 being the simplest\n",
    "        df[\"level\"]=abs(df.index%5-4)\n",
    "    \n",
    "    else:\n",
    "        dic={'kids':2, 'students':1, 'scholars':0}\n",
    "        df['level']=int\n",
    "        for ind,row in df.iterrows():\n",
    "            df[\"level\"][ind]=dic[df[\"score\"][ind]]\n",
    "    \n",
    "    df.to_csv(\"csv/\"+folder+\".csv\")\n",
    "    \n",
    "    return df"
   ]
  },
  {
   "cell_type": "code",
   "execution_count": 3,
   "metadata": {},
   "outputs": [
    {
     "name": "stderr",
     "output_type": "stream",
     "text": [
      "100%|██████████| 1000/1000 [00:00<00:00, 80197.02it/s]"
     ]
    },
    {
     "name": "stdout",
     "output_type": "stream",
     "text": [
      "Sample row: ('shark-endangered-224-730.txt', 'shark-endangered', '730')\n"
     ]
    },
    {
     "name": "stderr",
     "output_type": "stream",
     "text": [
      "\n"
     ]
    },
    {
     "data": {
      "text/html": [
       "<div>\n",
       "<style scoped>\n",
       "    .dataframe tbody tr th:only-of-type {\n",
       "        vertical-align: middle;\n",
       "    }\n",
       "\n",
       "    .dataframe tbody tr th {\n",
       "        vertical-align: top;\n",
       "    }\n",
       "\n",
       "    .dataframe thead th {\n",
       "        text-align: right;\n",
       "    }\n",
       "</style>\n",
       "<table border=\"1\" class=\"dataframe\">\n",
       "  <thead>\n",
       "    <tr style=\"text-align: right;\">\n",
       "      <th></th>\n",
       "      <th>path</th>\n",
       "      <th>name</th>\n",
       "      <th>score</th>\n",
       "      <th>level</th>\n",
       "    </tr>\n",
       "  </thead>\n",
       "  <tbody>\n",
       "    <tr>\n",
       "      <th>0</th>\n",
       "      <td>Narwhal-whales-sounds-44418-1400.txt</td>\n",
       "      <td>Narwhal-whales-sounds</td>\n",
       "      <td>1400</td>\n",
       "      <td>4</td>\n",
       "    </tr>\n",
       "    <tr>\n",
       "      <th>1</th>\n",
       "      <td>Narwhal-whales-sounds-44421-1220.txt</td>\n",
       "      <td>Narwhal-whales-sounds</td>\n",
       "      <td>1220</td>\n",
       "      <td>3</td>\n",
       "    </tr>\n",
       "    <tr>\n",
       "      <th>2</th>\n",
       "      <td>Narwhal-whales-sounds-44422-1050.txt</td>\n",
       "      <td>Narwhal-whales-sounds</td>\n",
       "      <td>1050</td>\n",
       "      <td>2</td>\n",
       "    </tr>\n",
       "    <tr>\n",
       "      <th>3</th>\n",
       "      <td>Narwhal-whales-sounds-44419-830.txt</td>\n",
       "      <td>Narwhal-whales-sounds</td>\n",
       "      <td>830</td>\n",
       "      <td>1</td>\n",
       "    </tr>\n",
       "    <tr>\n",
       "      <th>4</th>\n",
       "      <td>Narwhal-whales-sounds-44420-570.txt</td>\n",
       "      <td>Narwhal-whales-sounds</td>\n",
       "      <td>570</td>\n",
       "      <td>0</td>\n",
       "    </tr>\n",
       "  </tbody>\n",
       "</table>\n",
       "</div>"
      ],
      "text/plain": [
       "                                   path                   name  score  level\n",
       "0  Narwhal-whales-sounds-44418-1400.txt  Narwhal-whales-sounds   1400      4\n",
       "1  Narwhal-whales-sounds-44421-1220.txt  Narwhal-whales-sounds   1220      3\n",
       "2  Narwhal-whales-sounds-44422-1050.txt  Narwhal-whales-sounds   1050      2\n",
       "3   Narwhal-whales-sounds-44419-830.txt  Narwhal-whales-sounds    830      1\n",
       "4   Narwhal-whales-sounds-44420-570.txt  Narwhal-whales-sounds    570      0"
      ]
     },
     "execution_count": 3,
     "metadata": {},
     "output_type": "execute_result"
    }
   ],
   "source": [
    "create_df('newsela', newsela=True).head()"
   ]
  },
  {
   "cell_type": "code",
   "execution_count": 4,
   "metadata": {},
   "outputs": [
    {
     "name": "stderr",
     "output_type": "stream",
     "text": [
      "100%|██████████| 177/177 [00:00<00:00, 89466.35it/s]"
     ]
    },
    {
     "name": "stdout",
     "output_type": "stream",
     "text": [
      "Sample row: ('woodpecker_kids', 'woodpecker', 'kids')\n"
     ]
    },
    {
     "name": "stderr",
     "output_type": "stream",
     "text": [
      "\n"
     ]
    },
    {
     "data": {
      "text/html": [
       "<div>\n",
       "<style scoped>\n",
       "    .dataframe tbody tr th:only-of-type {\n",
       "        vertical-align: middle;\n",
       "    }\n",
       "\n",
       "    .dataframe tbody tr th {\n",
       "        vertical-align: top;\n",
       "    }\n",
       "\n",
       "    .dataframe thead th {\n",
       "        text-align: right;\n",
       "    }\n",
       "</style>\n",
       "<table border=\"1\" class=\"dataframe\">\n",
       "  <thead>\n",
       "    <tr style=\"text-align: right;\">\n",
       "      <th></th>\n",
       "      <th>path</th>\n",
       "      <th>name</th>\n",
       "      <th>score</th>\n",
       "      <th>level</th>\n",
       "    </tr>\n",
       "  </thead>\n",
       "  <tbody>\n",
       "    <tr>\n",
       "      <th>0</th>\n",
       "      <td>african_penguin_students</td>\n",
       "      <td>african-penguin</td>\n",
       "      <td>students</td>\n",
       "      <td>1</td>\n",
       "    </tr>\n",
       "    <tr>\n",
       "      <th>1</th>\n",
       "      <td>african_penguin_scholars</td>\n",
       "      <td>african-penguin</td>\n",
       "      <td>scholars</td>\n",
       "      <td>0</td>\n",
       "    </tr>\n",
       "    <tr>\n",
       "      <th>2</th>\n",
       "      <td>african_penguin_kids</td>\n",
       "      <td>african-penguin</td>\n",
       "      <td>kids</td>\n",
       "      <td>2</td>\n",
       "    </tr>\n",
       "    <tr>\n",
       "      <th>3</th>\n",
       "      <td>albatross_students</td>\n",
       "      <td>albatross</td>\n",
       "      <td>students</td>\n",
       "      <td>1</td>\n",
       "    </tr>\n",
       "    <tr>\n",
       "      <th>4</th>\n",
       "      <td>albatross_scholars</td>\n",
       "      <td>albatross</td>\n",
       "      <td>scholars</td>\n",
       "      <td>0</td>\n",
       "    </tr>\n",
       "  </tbody>\n",
       "</table>\n",
       "</div>"
      ],
      "text/plain": [
       "                       path             name     score level\n",
       "0  african_penguin_students  african-penguin  students     1\n",
       "1  african_penguin_scholars  african-penguin  scholars     0\n",
       "2      african_penguin_kids  african-penguin      kids     2\n",
       "3        albatross_students        albatross  students     1\n",
       "4        albatross_scholars        albatross  scholars     0"
      ]
     },
     "execution_count": 4,
     "metadata": {},
     "output_type": "execute_result"
    }
   ],
   "source": [
    "create_df('britannica', newsela=False).head()"
   ]
  },
  {
   "cell_type": "code",
   "execution_count": null,
   "metadata": {},
   "outputs": [],
   "source": []
  }
 ],
 "metadata": {
  "kernelspec": {
   "display_name": "Python 3",
   "language": "python",
   "name": "python3"
  },
  "language_info": {
   "codemirror_mode": {
    "name": "ipython",
    "version": 3
   },
   "file_extension": ".py",
   "mimetype": "text/x-python",
   "name": "python",
   "nbconvert_exporter": "python",
   "pygments_lexer": "ipython3",
   "version": "3.6.8"
  }
 },
 "nbformat": 4,
 "nbformat_minor": 2
}
